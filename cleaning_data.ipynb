{
 "cells": [
  {
   "cell_type": "code",
   "execution_count": null,
   "id": "cbeb93e6",
   "metadata": {},
   "outputs": [],
   "source": [
    "# Add the pandas dependency\n",
    "import pandas as pd"
   ]
  },
  {
   "cell_type": "code",
   "execution_count": null,
   "id": "bc68b9e3",
   "metadata": {},
   "outputs": [],
   "source": [
    "# File to load\n",
    "file_to_load = \"resources/missing_grades.csv\"\n",
    "\n",
    "# Read the CSV into a DataFrame\n",
    "missing_grade_df = pd.read_csv(file_to_load)\n",
    "missing_grade_df"
   ]
  },
  {
   "cell_type": "code",
   "execution_count": null,
   "id": "0139bdf1",
   "metadata": {},
   "outputs": [],
   "source": [
    "# Drop the NaNs\n",
    "missing_grade_df.dropna()"
   ]
  },
  {
   "cell_type": "code",
   "execution_count": null,
   "id": "4599a4d5",
   "metadata": {},
   "outputs": [],
   "source": [
    "# Now testing the fill in the row method\n",
    "# Read the CSV into a DataFrame (again, for testing fillna method)\n",
    "missing_grade_df = pd.read_csv(file_to_load)\n",
    "missing_grade_df\n",
    "\n",
    "# Fill in the empty rows with \"85\"\n",
    "missing_grade_df.fillna(85)"
   ]
  },
  {
   "cell_type": "code",
   "execution_count": null,
   "id": "bb089986",
   "metadata": {},
   "outputs": [],
   "source": []
  }
 ],
 "metadata": {
  "kernelspec": {
   "display_name": "PythonData",
   "language": "python",
   "name": "pythondata"
  },
  "language_info": {
   "codemirror_mode": {
    "name": "ipython",
    "version": 3
   },
   "file_extension": ".py",
   "mimetype": "text/x-python",
   "name": "python",
   "nbconvert_exporter": "python",
   "pygments_lexer": "ipython3",
   "version": "3.9.7"
  }
 },
 "nbformat": 4,
 "nbformat_minor": 5
}
